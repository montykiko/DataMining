{
 "cells": [
  {
   "cell_type": "markdown",
   "metadata": {},
   "source": [
    "http://scikit-learn.org/stable/modules/naive_bayes.html"
   ]
  },
  {
   "cell_type": "markdown",
   "metadata": {},
   "source": [
    "http://sklearn.lzjqsdd.com/modules/naive_bayes.html"
   ]
  },
  {
   "cell_type": "markdown",
   "metadata": {},
   "source": [
    "Iris数据集的输出空间为(Setosa, Versicolour, Virginica)，也就是训练的输出只可能是这三个；输入则是一个简单的四维向量，包含了Sepal length、Sepal width、Petal length和Petal width 四个特征。"
   ]
  },
  {
   "cell_type": "markdown",
   "metadata": {},
   "source": [
    "# GaussianNB"
   ]
  },
  {
   "cell_type": "code",
   "execution_count": 41,
   "metadata": {},
   "outputs": [
    {
     "data": {
      "text/plain": [
       "{'DESCR': 'Iris Plants Database\\n====================\\n\\nNotes\\n-----\\nData Set Characteristics:\\n    :Number of Instances: 150 (50 in each of three classes)\\n    :Number of Attributes: 4 numeric, predictive attributes and the class\\n    :Attribute Information:\\n        - sepal length in cm\\n        - sepal width in cm\\n        - petal length in cm\\n        - petal width in cm\\n        - class:\\n                - Iris-Setosa\\n                - Iris-Versicolour\\n                - Iris-Virginica\\n    :Summary Statistics:\\n\\n    ============== ==== ==== ======= ===== ====================\\n                    Min  Max   Mean    SD   Class Correlation\\n    ============== ==== ==== ======= ===== ====================\\n    sepal length:   4.3  7.9   5.84   0.83    0.7826\\n    sepal width:    2.0  4.4   3.05   0.43   -0.4194\\n    petal length:   1.0  6.9   3.76   1.76    0.9490  (high!)\\n    petal width:    0.1  2.5   1.20  0.76     0.9565  (high!)\\n    ============== ==== ==== ======= ===== ====================\\n\\n    :Missing Attribute Values: None\\n    :Class Distribution: 33.3% for each of 3 classes.\\n    :Creator: R.A. Fisher\\n    :Donor: Michael Marshall (MARSHALL%PLU@io.arc.nasa.gov)\\n    :Date: July, 1988\\n\\nThis is a copy of UCI ML iris datasets.\\nhttp://archive.ics.uci.edu/ml/datasets/Iris\\n\\nThe famous Iris database, first used by Sir R.A Fisher\\n\\nThis is perhaps the best known database to be found in the\\npattern recognition literature.  Fisher\\'s paper is a classic in the field and\\nis referenced frequently to this day.  (See Duda & Hart, for example.)  The\\ndata set contains 3 classes of 50 instances each, where each class refers to a\\ntype of iris plant.  One class is linearly separable from the other 2; the\\nlatter are NOT linearly separable from each other.\\n\\nReferences\\n----------\\n   - Fisher,R.A. \"The use of multiple measurements in taxonomic problems\"\\n     Annual Eugenics, 7, Part II, 179-188 (1936); also in \"Contributions to\\n     Mathematical Statistics\" (John Wiley, NY, 1950).\\n   - Duda,R.O., & Hart,P.E. (1973) Pattern Classification and Scene Analysis.\\n     (Q327.D83) John Wiley & Sons.  ISBN 0-471-22361-1.  See page 218.\\n   - Dasarathy, B.V. (1980) \"Nosing Around the Neighborhood: A New System\\n     Structure and Classification Rule for Recognition in Partially Exposed\\n     Environments\".  IEEE Transactions on Pattern Analysis and Machine\\n     Intelligence, Vol. PAMI-2, No. 1, 67-71.\\n   - Gates, G.W. (1972) \"The Reduced Nearest Neighbor Rule\".  IEEE Transactions\\n     on Information Theory, May 1972, 431-433.\\n   - See also: 1988 MLC Proceedings, 54-64.  Cheeseman et al\"s AUTOCLASS II\\n     conceptual clustering system finds 3 classes in the data.\\n   - Many, many more ...\\n',\n",
       " 'data': array([[ 5.1,  3.5,  1.4,  0.2],\n",
       "        [ 4.9,  3. ,  1.4,  0.2],\n",
       "        [ 4.7,  3.2,  1.3,  0.2],\n",
       "        [ 4.6,  3.1,  1.5,  0.2],\n",
       "        [ 5. ,  3.6,  1.4,  0.2],\n",
       "        [ 5.4,  3.9,  1.7,  0.4],\n",
       "        [ 4.6,  3.4,  1.4,  0.3],\n",
       "        [ 5. ,  3.4,  1.5,  0.2],\n",
       "        [ 4.4,  2.9,  1.4,  0.2],\n",
       "        [ 4.9,  3.1,  1.5,  0.1],\n",
       "        [ 5.4,  3.7,  1.5,  0.2],\n",
       "        [ 4.8,  3.4,  1.6,  0.2],\n",
       "        [ 4.8,  3. ,  1.4,  0.1],\n",
       "        [ 4.3,  3. ,  1.1,  0.1],\n",
       "        [ 5.8,  4. ,  1.2,  0.2],\n",
       "        [ 5.7,  4.4,  1.5,  0.4],\n",
       "        [ 5.4,  3.9,  1.3,  0.4],\n",
       "        [ 5.1,  3.5,  1.4,  0.3],\n",
       "        [ 5.7,  3.8,  1.7,  0.3],\n",
       "        [ 5.1,  3.8,  1.5,  0.3],\n",
       "        [ 5.4,  3.4,  1.7,  0.2],\n",
       "        [ 5.1,  3.7,  1.5,  0.4],\n",
       "        [ 4.6,  3.6,  1. ,  0.2],\n",
       "        [ 5.1,  3.3,  1.7,  0.5],\n",
       "        [ 4.8,  3.4,  1.9,  0.2],\n",
       "        [ 5. ,  3. ,  1.6,  0.2],\n",
       "        [ 5. ,  3.4,  1.6,  0.4],\n",
       "        [ 5.2,  3.5,  1.5,  0.2],\n",
       "        [ 5.2,  3.4,  1.4,  0.2],\n",
       "        [ 4.7,  3.2,  1.6,  0.2],\n",
       "        [ 4.8,  3.1,  1.6,  0.2],\n",
       "        [ 5.4,  3.4,  1.5,  0.4],\n",
       "        [ 5.2,  4.1,  1.5,  0.1],\n",
       "        [ 5.5,  4.2,  1.4,  0.2],\n",
       "        [ 4.9,  3.1,  1.5,  0.1],\n",
       "        [ 5. ,  3.2,  1.2,  0.2],\n",
       "        [ 5.5,  3.5,  1.3,  0.2],\n",
       "        [ 4.9,  3.1,  1.5,  0.1],\n",
       "        [ 4.4,  3. ,  1.3,  0.2],\n",
       "        [ 5.1,  3.4,  1.5,  0.2],\n",
       "        [ 5. ,  3.5,  1.3,  0.3],\n",
       "        [ 4.5,  2.3,  1.3,  0.3],\n",
       "        [ 4.4,  3.2,  1.3,  0.2],\n",
       "        [ 5. ,  3.5,  1.6,  0.6],\n",
       "        [ 5.1,  3.8,  1.9,  0.4],\n",
       "        [ 4.8,  3. ,  1.4,  0.3],\n",
       "        [ 5.1,  3.8,  1.6,  0.2],\n",
       "        [ 4.6,  3.2,  1.4,  0.2],\n",
       "        [ 5.3,  3.7,  1.5,  0.2],\n",
       "        [ 5. ,  3.3,  1.4,  0.2],\n",
       "        [ 7. ,  3.2,  4.7,  1.4],\n",
       "        [ 6.4,  3.2,  4.5,  1.5],\n",
       "        [ 6.9,  3.1,  4.9,  1.5],\n",
       "        [ 5.5,  2.3,  4. ,  1.3],\n",
       "        [ 6.5,  2.8,  4.6,  1.5],\n",
       "        [ 5.7,  2.8,  4.5,  1.3],\n",
       "        [ 6.3,  3.3,  4.7,  1.6],\n",
       "        [ 4.9,  2.4,  3.3,  1. ],\n",
       "        [ 6.6,  2.9,  4.6,  1.3],\n",
       "        [ 5.2,  2.7,  3.9,  1.4],\n",
       "        [ 5. ,  2. ,  3.5,  1. ],\n",
       "        [ 5.9,  3. ,  4.2,  1.5],\n",
       "        [ 6. ,  2.2,  4. ,  1. ],\n",
       "        [ 6.1,  2.9,  4.7,  1.4],\n",
       "        [ 5.6,  2.9,  3.6,  1.3],\n",
       "        [ 6.7,  3.1,  4.4,  1.4],\n",
       "        [ 5.6,  3. ,  4.5,  1.5],\n",
       "        [ 5.8,  2.7,  4.1,  1. ],\n",
       "        [ 6.2,  2.2,  4.5,  1.5],\n",
       "        [ 5.6,  2.5,  3.9,  1.1],\n",
       "        [ 5.9,  3.2,  4.8,  1.8],\n",
       "        [ 6.1,  2.8,  4. ,  1.3],\n",
       "        [ 6.3,  2.5,  4.9,  1.5],\n",
       "        [ 6.1,  2.8,  4.7,  1.2],\n",
       "        [ 6.4,  2.9,  4.3,  1.3],\n",
       "        [ 6.6,  3. ,  4.4,  1.4],\n",
       "        [ 6.8,  2.8,  4.8,  1.4],\n",
       "        [ 6.7,  3. ,  5. ,  1.7],\n",
       "        [ 6. ,  2.9,  4.5,  1.5],\n",
       "        [ 5.7,  2.6,  3.5,  1. ],\n",
       "        [ 5.5,  2.4,  3.8,  1.1],\n",
       "        [ 5.5,  2.4,  3.7,  1. ],\n",
       "        [ 5.8,  2.7,  3.9,  1.2],\n",
       "        [ 6. ,  2.7,  5.1,  1.6],\n",
       "        [ 5.4,  3. ,  4.5,  1.5],\n",
       "        [ 6. ,  3.4,  4.5,  1.6],\n",
       "        [ 6.7,  3.1,  4.7,  1.5],\n",
       "        [ 6.3,  2.3,  4.4,  1.3],\n",
       "        [ 5.6,  3. ,  4.1,  1.3],\n",
       "        [ 5.5,  2.5,  4. ,  1.3],\n",
       "        [ 5.5,  2.6,  4.4,  1.2],\n",
       "        [ 6.1,  3. ,  4.6,  1.4],\n",
       "        [ 5.8,  2.6,  4. ,  1.2],\n",
       "        [ 5. ,  2.3,  3.3,  1. ],\n",
       "        [ 5.6,  2.7,  4.2,  1.3],\n",
       "        [ 5.7,  3. ,  4.2,  1.2],\n",
       "        [ 5.7,  2.9,  4.2,  1.3],\n",
       "        [ 6.2,  2.9,  4.3,  1.3],\n",
       "        [ 5.1,  2.5,  3. ,  1.1],\n",
       "        [ 5.7,  2.8,  4.1,  1.3],\n",
       "        [ 6.3,  3.3,  6. ,  2.5],\n",
       "        [ 5.8,  2.7,  5.1,  1.9],\n",
       "        [ 7.1,  3. ,  5.9,  2.1],\n",
       "        [ 6.3,  2.9,  5.6,  1.8],\n",
       "        [ 6.5,  3. ,  5.8,  2.2],\n",
       "        [ 7.6,  3. ,  6.6,  2.1],\n",
       "        [ 4.9,  2.5,  4.5,  1.7],\n",
       "        [ 7.3,  2.9,  6.3,  1.8],\n",
       "        [ 6.7,  2.5,  5.8,  1.8],\n",
       "        [ 7.2,  3.6,  6.1,  2.5],\n",
       "        [ 6.5,  3.2,  5.1,  2. ],\n",
       "        [ 6.4,  2.7,  5.3,  1.9],\n",
       "        [ 6.8,  3. ,  5.5,  2.1],\n",
       "        [ 5.7,  2.5,  5. ,  2. ],\n",
       "        [ 5.8,  2.8,  5.1,  2.4],\n",
       "        [ 6.4,  3.2,  5.3,  2.3],\n",
       "        [ 6.5,  3. ,  5.5,  1.8],\n",
       "        [ 7.7,  3.8,  6.7,  2.2],\n",
       "        [ 7.7,  2.6,  6.9,  2.3],\n",
       "        [ 6. ,  2.2,  5. ,  1.5],\n",
       "        [ 6.9,  3.2,  5.7,  2.3],\n",
       "        [ 5.6,  2.8,  4.9,  2. ],\n",
       "        [ 7.7,  2.8,  6.7,  2. ],\n",
       "        [ 6.3,  2.7,  4.9,  1.8],\n",
       "        [ 6.7,  3.3,  5.7,  2.1],\n",
       "        [ 7.2,  3.2,  6. ,  1.8],\n",
       "        [ 6.2,  2.8,  4.8,  1.8],\n",
       "        [ 6.1,  3. ,  4.9,  1.8],\n",
       "        [ 6.4,  2.8,  5.6,  2.1],\n",
       "        [ 7.2,  3. ,  5.8,  1.6],\n",
       "        [ 7.4,  2.8,  6.1,  1.9],\n",
       "        [ 7.9,  3.8,  6.4,  2. ],\n",
       "        [ 6.4,  2.8,  5.6,  2.2],\n",
       "        [ 6.3,  2.8,  5.1,  1.5],\n",
       "        [ 6.1,  2.6,  5.6,  1.4],\n",
       "        [ 7.7,  3. ,  6.1,  2.3],\n",
       "        [ 6.3,  3.4,  5.6,  2.4],\n",
       "        [ 6.4,  3.1,  5.5,  1.8],\n",
       "        [ 6. ,  3. ,  4.8,  1.8],\n",
       "        [ 6.9,  3.1,  5.4,  2.1],\n",
       "        [ 6.7,  3.1,  5.6,  2.4],\n",
       "        [ 6.9,  3.1,  5.1,  2.3],\n",
       "        [ 5.8,  2.7,  5.1,  1.9],\n",
       "        [ 6.8,  3.2,  5.9,  2.3],\n",
       "        [ 6.7,  3.3,  5.7,  2.5],\n",
       "        [ 6.7,  3. ,  5.2,  2.3],\n",
       "        [ 6.3,  2.5,  5. ,  1.9],\n",
       "        [ 6.5,  3. ,  5.2,  2. ],\n",
       "        [ 6.2,  3.4,  5.4,  2.3],\n",
       "        [ 5.9,  3. ,  5.1,  1.8]]),\n",
       " 'feature_names': ['sepal length (cm)',\n",
       "  'sepal width (cm)',\n",
       "  'petal length (cm)',\n",
       "  'petal width (cm)'],\n",
       " 'target': array([0, 0, 0, 0, 0, 0, 0, 0, 0, 0, 0, 0, 0, 0, 0, 0, 0, 0, 0, 0, 0, 0, 0,\n",
       "        0, 0, 0, 0, 0, 0, 0, 0, 0, 0, 0, 0, 0, 0, 0, 0, 0, 0, 0, 0, 0, 0, 0,\n",
       "        0, 0, 0, 0, 1, 1, 1, 1, 1, 1, 1, 1, 1, 1, 1, 1, 1, 1, 1, 1, 1, 1, 1,\n",
       "        1, 1, 1, 1, 1, 1, 1, 1, 1, 1, 1, 1, 1, 1, 1, 1, 1, 1, 1, 1, 1, 1, 1,\n",
       "        1, 1, 1, 1, 1, 1, 1, 1, 2, 2, 2, 2, 2, 2, 2, 2, 2, 2, 2, 2, 2, 2, 2,\n",
       "        2, 2, 2, 2, 2, 2, 2, 2, 2, 2, 2, 2, 2, 2, 2, 2, 2, 2, 2, 2, 2, 2, 2,\n",
       "        2, 2, 2, 2, 2, 2, 2, 2, 2, 2, 2, 2]),\n",
       " 'target_names': array(['setosa', 'versicolor', 'virginica'], \n",
       "       dtype='<U10')}"
      ]
     },
     "execution_count": 41,
     "metadata": {},
     "output_type": "execute_result"
    }
   ],
   "source": [
    "from sklearn import datasets\n",
    "iris = datasets.load_iris()\n",
    "from sklearn.naive_bayes import GaussianNB\n",
    "iris"
   ]
  },
  {
   "cell_type": "code",
   "execution_count": 42,
   "metadata": {},
   "outputs": [
    {
     "name": "stdout",
     "output_type": "stream",
     "text": [
      "Number of mislabeled points out of a total 150 points : 6\n"
     ]
    }
   ],
   "source": [
    "gnb = GaussianNB()\n",
    "y_pred = gnb.fit(iris.data,iris.target).predict(iris.data)\n",
    "print(\"Number of mislabeled points out of a total %d points : %d\"%(iris.data.shape[0],(iris.target!=y_pred).sum()))      "
   ]
  },
  {
   "cell_type": "markdown",
   "metadata": {},
   "source": [
    "参考网址：https://zhuanlan.zhihu.com/p/26055646"
   ]
  },
  {
   "cell_type": "markdown",
   "metadata": {},
   "source": [
    "# MultinomialNB多项式模型"
   ]
  },
  {
   "cell_type": "markdown",
   "metadata": {},
   "source": [
    "http://scikit-learn.org/stable/modules/generated/sklearn.naive_bayes.MultinomialNB.html#sklearn.naive_bayes.MultinomialNB"
   ]
  },
  {
   "cell_type": "code",
   "execution_count": 44,
   "metadata": {},
   "outputs": [
    {
     "name": "stdout",
     "output_type": "stream",
     "text": [
      "[3]\n"
     ]
    }
   ],
   "source": [
    "import numpy as np\n",
    "X = np.random.randint(5,size=(6,100))#生成指定范围内的整数，比如此例中小于5的\n",
    "y = np.array([1,2,3,4,5,6])\n",
    "from sklearn.naive_bayes import MultinomialNB\n",
    "clf = MultinomialNB()\n",
    "clf.fit(X,y)\n",
    "print(clf.predict(X[2:3]))"
   ]
  },
  {
   "cell_type": "markdown",
   "metadata": {},
   "source": [
    "# BernoulliNB伯努力模型"
   ]
  },
  {
   "cell_type": "markdown",
   "metadata": {},
   "source": [
    "简化：将重复的词语都视为其只出现1次"
   ]
  },
  {
   "cell_type": "code",
   "execution_count": 45,
   "metadata": {},
   "outputs": [
    {
     "name": "stdout",
     "output_type": "stream",
     "text": [
      "[3]\n"
     ]
    }
   ],
   "source": [
    "import numpy as np\n",
    "X = np.random.randint(2,size=(6,100))\n",
    "Y = np.array([1,2,3,4,4,5])\n",
    "from sklearn.naive_bayes import BernoulliNB\n",
    "clf = BernoulliNB()\n",
    "clf.fit(X,Y)\n",
    "print(clf.predict(X[2:3]))"
   ]
  },
  {
   "cell_type": "markdown",
   "metadata": {},
   "source": [
    "# 朴素贝叶斯分类器的Python实现"
   ]
  },
  {
   "cell_type": "markdown",
   "metadata": {},
   "source": [
    "## 定义特征提取器"
   ]
  },
  {
   "cell_type": "code",
   "execution_count": 58,
   "metadata": {},
   "outputs": [
    {
     "data": {
      "text/plain": [
       "{'last_letter': 'k'}"
      ]
     },
     "execution_count": 58,
     "metadata": {},
     "output_type": "execute_result"
    }
   ],
   "source": [
    "def gender_features(word):\n",
    "    return {'last_letter':word[-1]}\n",
    "gender_features(\"Shrek\")"
   ]
  },
  {
   "cell_type": "markdown",
   "metadata": {},
   "source": [
    "## 准备数据"
   ]
  },
  {
   "cell_type": "code",
   "execution_count": 63,
   "metadata": {},
   "outputs": [
    {
     "name": "stdout",
     "output_type": "stream",
     "text": [
      "showing info https://raw.githubusercontent.com/nltk/nltk_data/gh-pages/index.xml\n"
     ]
    },
    {
     "data": {
      "text/plain": [
       "True"
      ]
     },
     "execution_count": 63,
     "metadata": {},
     "output_type": "execute_result"
    }
   ],
   "source": [
    "import nltk\n",
    "nltk.download()"
   ]
  },
  {
   "cell_type": "code",
   "execution_count": 64,
   "metadata": {
    "collapsed": true
   },
   "outputs": [],
   "source": [
    "from nltk.corpus import names\n",
    "import random\n",
    "names = ([(name, 'male') for name in names.words('male.txt')] + [(name, 'female') for name in names.words('female.txt')])\n",
    "random.shuffle(names)"
   ]
  },
  {
   "cell_type": "markdown",
   "metadata": {},
   "source": [
    "## 朴素贝叶斯分类器"
   ]
  },
  {
   "cell_type": "code",
   "execution_count": 66,
   "metadata": {},
   "outputs": [
    {
     "data": {
      "text/plain": [
       "'male'"
      ]
     },
     "execution_count": 66,
     "metadata": {},
     "output_type": "execute_result"
    }
   ],
   "source": [
    "featuresets = [(gender_features(n),g) for (n,g) in names]\n",
    "train_set,test_set = featuresets[500:],featuresets[:500]\n",
    "classifier = nltk.NaiveBayesClassifier.train(train_set)\n",
    "classifier.classify(gender_features(\"Neo\"))"
   ]
  },
  {
   "cell_type": "markdown",
   "metadata": {},
   "source": [
    "## 评估分类器"
   ]
  },
  {
   "cell_type": "code",
   "execution_count": 67,
   "metadata": {},
   "outputs": [
    {
     "name": "stdout",
     "output_type": "stream",
     "text": [
      "0.728\n"
     ]
    }
   ],
   "source": [
    "print (nltk.classify.accuracy(classifier, test_set))"
   ]
  },
  {
   "cell_type": "markdown",
   "metadata": {},
   "source": [
    "检查分类器，确定哪些特征对于区分名字的性别是最有效的:"
   ]
  },
  {
   "cell_type": "code",
   "execution_count": 68,
   "metadata": {},
   "outputs": [
    {
     "name": "stdout",
     "output_type": "stream",
     "text": [
      "Most Informative Features\n",
      "             last_letter = 'a'            female : male   =     35.9 : 1.0\n",
      "             last_letter = 'k'              male : female =     31.1 : 1.0\n",
      "             last_letter = 'f'              male : female =     15.2 : 1.0\n",
      "             last_letter = 'p'              male : female =     12.5 : 1.0\n",
      "             last_letter = 'v'              male : female =     10.5 : 1.0\n"
     ]
    }
   ],
   "source": [
    "classifier.show_most_informative_features(5)"
   ]
  },
  {
   "cell_type": "markdown",
   "metadata": {},
   "source": [
    "## 优化"
   ]
  },
  {
   "cell_type": "markdown",
   "metadata": {},
   "source": [
    "在处理大型语料库时，构建包含所有实例特征的单独链表会占用大量内存。可以使用函数 nltk.classify.apply_features， 类似生成器原理。"
   ]
  },
  {
   "cell_type": "code",
   "execution_count": 69,
   "metadata": {},
   "outputs": [
    {
     "data": {
      "text/plain": [
       "nltk.collections.LazyMap"
      ]
     },
     "execution_count": 69,
     "metadata": {},
     "output_type": "execute_result"
    }
   ],
   "source": [
    "from nltk.classify import apply_features\n",
    "train_set = apply_features(gender_features,featuresets[500:])\n",
    "test_set = apply_features(gender_features,featuresets[:500])\n",
    "type(train_set)"
   ]
  },
  {
   "cell_type": "markdown",
   "metadata": {},
   "source": [
    "## 结果评估与改进"
   ]
  },
  {
   "cell_type": "markdown",
   "metadata": {},
   "source": [
    "将数据分为训练集、开发测试集和测试集。\n",
    "\n",
    "训练集用于训练模型，开发测试集用于执行错误分析，测试集用于系统的最终评估。"
   ]
  },
  {
   "cell_type": "code",
   "execution_count": 70,
   "metadata": {},
   "outputs": [
    {
     "name": "stdout",
     "output_type": "stream",
     "text": [
      "0.764\n"
     ]
    }
   ],
   "source": [
    "train_names = names[1500:]\n",
    "devtest_names = names[500:1500]\n",
    "test_names = names[:500]\n",
    "train_set = [(gender_features(n), g) for (n, g) in train_names]\n",
    "devtest_set = [(gender_features(n), g) for (n, g) in devtest_names]\n",
    "test_set = [(gender_features(n), g) for (n, g) in test_names]\n",
    "classifier = nltk.NaiveBayesClassifier.train(train_set)\n",
    "print (nltk.classify.accuracy(classifier, devtest_set))"
   ]
  },
  {
   "cell_type": "code",
   "execution_count": 72,
   "metadata": {},
   "outputs": [
    {
     "name": "stdout",
     "output_type": "stream",
     "text": [
      "correct=female   guess=male     name=Adelind                       \n",
      "correct=female   guess=male     name=Alleen                        \n",
      "correct=female   guess=male     name=Allsun                        \n",
      "correct=female   guess=male     name=Alyson                        \n",
      "correct=female   guess=male     name=Anabel                        \n",
      "correct=female   guess=male     name=Angil                         \n",
      "correct=female   guess=male     name=Annabal                       \n",
      "correct=female   guess=male     name=Ardelis                       \n",
      "correct=female   guess=male     name=Beatriz                       \n",
      "correct=female   guess=male     name=Beau                          \n",
      "correct=female   guess=male     name=Beilul                        \n",
      "correct=female   guess=male     name=Bess                          \n",
      "correct=female   guess=male     name=Bette-Ann                     \n",
      "correct=female   guess=male     name=Bidget                        \n",
      "correct=female   guess=male     name=Bill                          \n",
      "correct=female   guess=male     name=Blondell                      \n",
      "correct=female   guess=male     name=Brenn                         \n",
      "correct=female   guess=male     name=Brett                         \n",
      "correct=female   guess=male     name=Bridgett                      \n",
      "correct=female   guess=male     name=Camel                         \n",
      "correct=female   guess=male     name=Caril                         \n",
      "correct=female   guess=male     name=Carin                         \n",
      "correct=female   guess=male     name=Carlynn                       \n",
      "correct=female   guess=male     name=Carol                         \n",
      "correct=female   guess=male     name=Carol-Jean                    \n",
      "correct=female   guess=male     name=Cathrin                       \n",
      "correct=female   guess=male     name=Charis                        \n",
      "correct=female   guess=male     name=Charo                         \n",
      "correct=female   guess=male     name=Cherlyn                       \n",
      "correct=female   guess=male     name=Chrysler                      \n",
      "correct=female   guess=male     name=Clair                         \n",
      "correct=female   guess=male     name=Cristen                       \n",
      "correct=female   guess=male     name=Dallas                        \n",
      "correct=female   guess=male     name=Darb                          \n",
      "correct=female   guess=male     name=Daryl                         \n",
      "correct=female   guess=male     name=Deb                           \n",
      "correct=female   guess=male     name=Debor                         \n",
      "correct=female   guess=male     name=Emlyn                         \n",
      "correct=female   guess=male     name=Eran                          \n",
      "correct=female   guess=male     name=Ethelin                       \n",
      "correct=female   guess=male     name=Eveleen                       \n",
      "correct=female   guess=male     name=Fallon                        \n",
      "correct=female   guess=male     name=Faun                          \n",
      "correct=female   guess=male     name=Fawn                          \n",
      "correct=female   guess=male     name=Felicdad                      \n",
      "correct=female   guess=male     name=Fred                          \n",
      "correct=female   guess=male     name=Ginger                        \n",
      "correct=female   guess=male     name=Gredel                        \n",
      "correct=female   guess=male     name=Greer                         \n",
      "correct=female   guess=male     name=Gretel                        \n",
      "correct=female   guess=male     name=Gwendolen                     \n",
      "correct=female   guess=male     name=Gwenn                         \n",
      "correct=female   guess=male     name=Gwyn                          \n",
      "correct=female   guess=male     name=Harriet                       \n",
      "correct=female   guess=male     name=Hesther                       \n",
      "correct=female   guess=male     name=Hildegaard                    \n",
      "correct=female   guess=male     name=Honor                         \n",
      "correct=female   guess=male     name=Jackelyn                      \n",
      "correct=female   guess=male     name=Jenn                          \n",
      "correct=female   guess=male     name=Jessamyn                      \n",
      "correct=female   guess=male     name=Joan                          \n",
      "correct=female   guess=male     name=Joselyn                       \n",
      "correct=female   guess=male     name=Josselyn                      \n",
      "correct=female   guess=male     name=Karleen                       \n",
      "correct=female   guess=male     name=Karylin                       \n",
      "correct=female   guess=male     name=Karyn                         \n",
      "correct=female   guess=male     name=Keriann                       \n",
      "correct=female   guess=male     name=Kial                          \n",
      "correct=female   guess=male     name=Kirstin                       \n",
      "correct=female   guess=male     name=Kit                           \n",
      "correct=female   guess=male     name=Kristal                       \n",
      "correct=female   guess=male     name=Lilias                        \n",
      "correct=female   guess=male     name=Lillian                       \n",
      "correct=female   guess=male     name=Lind                          \n",
      "correct=female   guess=male     name=Madelyn                       \n",
      "correct=female   guess=male     name=Madlen                        \n",
      "correct=female   guess=male     name=Marigold                      \n",
      "correct=female   guess=male     name=Marijo                        \n",
      "correct=female   guess=male     name=Marleen                       \n",
      "correct=female   guess=male     name=Maryl                         \n",
      "correct=female   guess=male     name=Meaghan                       \n",
      "correct=female   guess=male     name=Meghann                       \n",
      "correct=female   guess=male     name=Meridel                       \n",
      "correct=female   guess=male     name=Meris                         \n",
      "correct=female   guess=male     name=Michell                       \n",
      "correct=female   guess=male     name=Mildrid                       \n",
      "correct=female   guess=male     name=Milissent                     \n",
      "correct=female   guess=male     name=Mirabel                       \n",
      "correct=female   guess=male     name=Morgan                        \n",
      "correct=female   guess=male     name=Morgen                        \n",
      "correct=female   guess=male     name=Myriam                        \n",
      "correct=female   guess=male     name=Nell                          \n",
      "correct=female   guess=male     name=Nichol                        \n",
      "correct=female   guess=male     name=Noell                         \n",
      "correct=female   guess=male     name=Norean                        \n",
      "correct=female   guess=male     name=Raven                         \n",
      "correct=female   guess=male     name=Regan                         \n",
      "correct=female   guess=male     name=Robyn                         \n",
      "correct=female   guess=male     name=Sharon                        \n",
      "correct=female   guess=male     name=Sharron                       \n",
      "correct=female   guess=male     name=Sharyl                        \n",
      "correct=female   guess=male     name=Shawn                         \n",
      "correct=female   guess=male     name=Shirleen                      \n",
      "correct=female   guess=male     name=Stoddard                      \n",
      "correct=female   guess=male     name=Storm                         \n",
      "correct=female   guess=male     name=Terri-Jo                      \n",
      "correct=female   guess=male     name=Thomasin                      \n",
      "correct=female   guess=male     name=Yoko                          \n",
      "correct=male     guess=female   name=Abby                          \n",
      "correct=male     guess=female   name=Alex                          \n",
      "correct=male     guess=female   name=Anatoly                       \n",
      "correct=male     guess=female   name=Andre                         \n",
      "correct=male     guess=female   name=Avery                         \n",
      "correct=male     guess=female   name=Bailie                        \n",
      "correct=male     guess=female   name=Barnaby                       \n",
      "correct=male     guess=female   name=Barth                         \n",
      "correct=male     guess=female   name=Benny                         \n",
      "correct=male     guess=female   name=Billie                        \n",
      "correct=male     guess=female   name=Blare                         \n",
      "correct=male     guess=female   name=Boyce                         \n",
      "correct=male     guess=female   name=Brody                         \n",
      "correct=male     guess=female   name=Buddy                         \n",
      "correct=male     guess=female   name=Cammy                         \n",
      "correct=male     guess=female   name=Case                          \n",
      "correct=male     guess=female   name=Chaddy                        \n",
      "correct=male     guess=female   name=Christoph                     \n",
      "correct=male     guess=female   name=Christy                       \n",
      "correct=male     guess=female   name=Claire                        \n",
      "correct=male     guess=female   name=Clarance                      \n",
      "correct=male     guess=female   name=Clemmie                       \n",
      "correct=male     guess=female   name=Cobby                         \n",
      "correct=male     guess=female   name=Corey                         \n",
      "correct=male     guess=female   name=Cory                          \n",
      "correct=male     guess=female   name=Costa                         \n",
      "correct=male     guess=female   name=Dave                          \n",
      "correct=male     guess=female   name=Davey                         \n",
      "correct=male     guess=female   name=Dryke                         \n",
      "correct=male     guess=female   name=Dwane                         \n",
      "correct=male     guess=female   name=Dwayne                        \n",
      "correct=male     guess=female   name=Earle                         \n",
      "correct=male     guess=female   name=Emile                         \n",
      "correct=male     guess=female   name=Enrique                       \n",
      "correct=male     guess=female   name=Ferdie                        \n",
      "correct=male     guess=female   name=Filmore                       \n",
      "correct=male     guess=female   name=Fonzie                        \n",
      "correct=male     guess=female   name=Gale                          \n",
      "correct=male     guess=female   name=Garvy                         \n",
      "correct=male     guess=female   name=Gay                           \n",
      "correct=male     guess=female   name=Gere                          \n",
      "correct=male     guess=female   name=Geri                          \n",
      "correct=male     guess=female   name=Gerome                        \n",
      "correct=male     guess=female   name=Godfrey                       \n",
      "correct=male     guess=female   name=Granville                     \n",
      "correct=male     guess=female   name=Gregory                       \n",
      "correct=male     guess=female   name=Grove                         \n",
      "correct=male     guess=female   name=Hamish                        \n",
      "correct=male     guess=female   name=Hartley                       \n",
      "correct=male     guess=female   name=Heinrich                      \n",
      "correct=male     guess=female   name=Henry                         \n",
      "correct=male     guess=female   name=Hersch                        \n",
      "correct=male     guess=female   name=Hersh                         \n",
      "correct=male     guess=female   name=Horace                        \n",
      "correct=male     guess=female   name=Huntlee                       \n",
      "correct=male     guess=female   name=Isaiah                        \n",
      "correct=male     guess=female   name=Jefry                         \n",
      "correct=male     guess=female   name=Jeramie                       \n",
      "correct=male     guess=female   name=Jeromy                        \n",
      "correct=male     guess=female   name=Jessee                        \n",
      "correct=male     guess=female   name=Jordy                         \n",
      "correct=male     guess=female   name=Josiah                        \n",
      "correct=male     guess=female   name=Judith                        \n",
      "correct=male     guess=female   name=Kalle                         \n",
      "correct=male     guess=female   name=Kelsey                        \n",
      "correct=male     guess=female   name=Kermie                        \n",
      "correct=male     guess=female   name=Laurie                        \n",
      "correct=male     guess=female   name=Leigh                         \n",
      "correct=male     guess=female   name=Lex                           \n",
      "correct=male     guess=female   name=Lorne                         \n",
      "correct=male     guess=female   name=Luigi                         \n",
      "correct=male     guess=female   name=Mackenzie                     \n",
      "correct=male     guess=female   name=Maddie                        \n",
      "correct=male     guess=female   name=Maurice                       \n",
      "correct=male     guess=female   name=Maury                         \n",
      "correct=male     guess=female   name=Mendie                        \n",
      "correct=male     guess=female   name=Mika                          \n",
      "correct=male     guess=female   name=Mitch                         \n",
      "correct=male     guess=female   name=Mordecai                      \n",
      "correct=male     guess=female   name=Morlee                        \n",
      "correct=male     guess=female   name=Morrie                        \n",
      "correct=male     guess=female   name=Murray                        \n",
      "correct=male     guess=female   name=Myke                          \n",
      "correct=male     guess=female   name=Obadiah                       \n",
      "correct=male     guess=female   name=Olle                          \n",
      "correct=male     guess=female   name=Osborne                       \n",
      "correct=male     guess=female   name=Piggy                         \n",
      "correct=male     guess=female   name=Price                         \n",
      "correct=male     guess=female   name=Quiggly                       \n",
      "correct=male     guess=female   name=Rabi                          \n",
      "correct=male     guess=female   name=Ravi                          \n",
      "correct=male     guess=female   name=Rawley                        \n",
      "correct=male     guess=female   name=Reube                         \n",
      "correct=male     guess=female   name=Rickie                        \n",
      "correct=male     guess=female   name=Rikki                         \n",
      "correct=male     guess=female   name=Royce                         \n",
      "correct=male     guess=female   name=Rudie                         \n",
      "correct=male     guess=female   name=Scottie                       \n",
      "correct=male     guess=female   name=See                           \n",
      "correct=male     guess=female   name=Sinclare                      \n",
      "correct=male     guess=female   name=Sky                           \n",
      "correct=male     guess=female   name=Solly                         \n",
      "correct=male     guess=female   name=Stevie                        \n",
      "correct=male     guess=female   name=Stevy                         \n",
      "correct=male     guess=female   name=Sunny                         \n",
      "correct=male     guess=female   name=Tanny                         \n",
      "correct=male     guess=female   name=Tarrance                      \n",
      "correct=male     guess=female   name=Tedie                         \n",
      "correct=male     guess=female   name=Thatch                        \n",
      "correct=male     guess=female   name=Thorny                        \n",
      "correct=male     guess=female   name=Thorpe                        \n",
      "correct=male     guess=female   name=Tobe                          \n",
      "correct=male     guess=female   name=Tobiah                        \n",
      "correct=male     guess=female   name=Tobie                         \n",
      "correct=male     guess=female   name=Toddy                         \n",
      "correct=male     guess=female   name=Tome                          \n",
      "correct=male     guess=female   name=Trace                         \n",
      "correct=male     guess=female   name=Udale                         \n",
      "correct=male     guess=female   name=Uli                           \n",
      "correct=male     guess=female   name=Vince                         \n",
      "correct=male     guess=female   name=Vite                          \n",
      "correct=male     guess=female   name=Waine                         \n",
      "correct=male     guess=female   name=Wake                          \n",
      "correct=male     guess=female   name=Wallie                        \n",
      "correct=male     guess=female   name=Welbie                        \n",
      "correct=male     guess=female   name=Whitby                        \n",
      "correct=male     guess=female   name=Yuri                          \n",
      "correct=male     guess=female   name=Zachariah                     \n"
     ]
    }
   ],
   "source": [
    "errors = []\n",
    "for (name, tag) in devtest_names:\n",
    "    guess = classifier.classify(gender_features(name))\n",
    "    if guess != tag:\n",
    "        errors.append((tag, guess, name))\n",
    "for (tag, guess, name) in sorted(errors):\n",
    "    print ('correct=%-8s guess=%-8s name=%-30s' % (tag, guess, name))"
   ]
  },
  {
   "cell_type": "markdown",
   "metadata": {},
   "source": [
    "根据上面的错误列表改进特征提取器，比如发现yn结尾的名字大多以女性为主，但以n结尾的名字往往是男性，因此调整特征提取器使其包含两个字母后缀的特征："
   ]
  },
  {
   "cell_type": "code",
   "execution_count": null,
   "metadata": {
    "collapsed": true
   },
   "outputs": [],
   "source": [
    "def gender_features(word):\n",
    "    return {'suffix1':word[-1:],\n",
    "            'suffix2':word[-2:]}"
   ]
  }
 ],
 "metadata": {
  "kernelspec": {
   "display_name": "Python 3",
   "language": "python",
   "name": "python3"
  },
  "language_info": {
   "codemirror_mode": {
    "name": "ipython",
    "version": 3
   },
   "file_extension": ".py",
   "mimetype": "text/x-python",
   "name": "python",
   "nbconvert_exporter": "python",
   "pygments_lexer": "ipython3",
   "version": "3.6.4"
  },
  "latex_envs": {
   "LaTeX_envs_menu_present": true,
   "autocomplete": true,
   "bibliofile": "biblio.bib",
   "cite_by": "apalike",
   "current_citInitial": 1,
   "eqLabelWithNumbers": true,
   "eqNumInitial": 1,
   "hotkeys": {
    "equation": "Ctrl-E",
    "itemize": "Ctrl-I"
   },
   "labels_anchors": false,
   "latex_user_defs": false,
   "report_style_numbering": false,
   "user_envs_cfg": false
  },
  "toc": {
   "nav_menu": {
    "height": "13px",
    "width": "253px"
   },
   "number_sections": true,
   "sideBar": true,
   "skip_h1_title": false,
   "title_cell": "Table of Contents",
   "title_sidebar": "Contents",
   "toc_cell": false,
   "toc_position": {},
   "toc_section_display": "block",
   "toc_window_display": true
  }
 },
 "nbformat": 4,
 "nbformat_minor": 2
}
