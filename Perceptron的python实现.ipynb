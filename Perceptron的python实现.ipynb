{
 "cells": [
  {
   "cell_type": "markdown",
   "metadata": {},
   "source": [
    "# 基本形式"
   ]
  },
  {
   "cell_type": "code",
   "execution_count": 23,
   "metadata": {
    "ExecuteTime": {
     "end_time": "2018-06-25T10:17:11.398468Z",
     "start_time": "2018-06-25T10:17:11.353590Z"
    }
   },
   "outputs": [
    {
     "name": "stdout",
     "output_type": "stream",
     "text": [
      "w =  [3, 3] b= 1\n",
      "w =  [2, 2] b= 0\n",
      "w =  [1, 1] b= -1\n",
      "w =  [0, 0] b= -2\n",
      "w =  [3, 3] b= -1\n",
      "w =  [2, 2] b= -2\n",
      "w =  [1, 1] b= -3\n",
      "分对了\n"
     ]
    }
   ],
   "source": [
    "# -*- coding: utf-8 -*-\n",
    "\n",
    "trainint_set = [[(3,3),1],[(4,3),1],[(1,1),-1]]       \n",
    "w = [0,0]          \n",
    "b = 0             \n",
    "\n",
    "def update(item):\n",
    "    global w,b\n",
    "    w[0] += 1*item[1]*item[0][0]              \n",
    "    w[1] += 1*item[1]*item[0][1]              \n",
    "    b += 1*item[1]\n",
    "    print ('w = ',w,'b=',b)                    \n",
    "\n",
    "def judge(item):                               \n",
    "    res = 0\n",
    "    for i in range(len(item[0])):\n",
    "        res +=item[0][i]*w[i]                   \n",
    "    res += b                                   \n",
    "    res *= item[1]                             \n",
    "    return res\n",
    "\n",
    "def check():\n",
    "    flag = False\n",
    "    for item in trainingSet:\n",
    "        if judge(item)<=0:\n",
    "            flag = True\n",
    "            update(item)\n",
    "    return flag             #flag=False,说明没有错分的了\n",
    "        \n",
    "if __name__ == '__main__':\n",
    "    flag = False\n",
    "    for i in range(1000):\n",
    "        if not check():\n",
    "            flag = True\n",
    "            break\n",
    "    if flag:\n",
    "        print(\"分对了\")\n",
    "    else:\n",
    "        print(\"还是有错分的\")\n",
    "            "
   ]
  },
  {
   "cell_type": "markdown",
   "metadata": {},
   "source": [
    "# 对偶形式"
   ]
  },
  {
   "cell_type": "code",
   "execution_count": 26,
   "metadata": {
    "ExecuteTime": {
     "end_time": "2018-06-25T10:17:27.218433Z",
     "start_time": "2018-06-25T10:17:27.137659Z"
    }
   },
   "outputs": [
    {
     "name": "stdout",
     "output_type": "stream",
     "text": [
      "[ 1.  0.  0.] 1.0\n",
      "[ 1.  0.  1.] 0.0\n",
      "[ 1.  0.  2.] -1.0\n",
      "[ 1.  0.  3.] -2.0\n",
      "[ 2.  0.  3.] -1.0\n",
      "[ 2.  0.  4.] -2.0\n",
      "[ 2.  0.  5.] -3.0\n",
      "RESULT: w: [1.0 1.0] b: -3.0\n"
     ]
    }
   ],
   "source": [
    "import numpy as np\n",
    "\n",
    "# An example in that book, the training set and parameters' sizes are fixed\n",
    "training_set = np.array([[[3, 3], 1], [[4, 3], 1], [[1, 1], -1]])\n",
    "\n",
    "a = np.zeros(len(training_set), np.float)\n",
    "b = 0.0\n",
    "Gram = None\n",
    "y = np.array(training_set[:, 1])\n",
    "x = np.empty((len(training_set), 2), np.float)\n",
    "for i in range(len(training_set)):\n",
    "    x[i] = training_set[i][0]\n",
    "\n",
    "def cal_gram():\n",
    "    \"\"\"\n",
    "    calculate the Gram matrix\n",
    "    :return:\n",
    "    \"\"\"\n",
    "    g = np.empty((len(training_set), len(training_set)), np.int)\n",
    "    for i in range(len(training_set)):\n",
    "        for j in range(len(training_set)):\n",
    "            g[i][j] = np.dot(training_set[i][0], training_set[j][0])\n",
    "    return g\n",
    "\n",
    "\n",
    "def update(i):\n",
    "    \"\"\"\n",
    "    update parameters using stochastic gradient descent\n",
    "    :param i:\n",
    "    :return:\n",
    "    \"\"\"\n",
    "    global a, b\n",
    "    a[i] += 1\n",
    "    b = b + y[i]\n",
    "    print (a,b)\n",
    "\n",
    "# calculate the judge condition\n",
    "def cal(i):\n",
    "    global a, b, x, y\n",
    "\n",
    "    res = np.dot(a * y, Gram[i])\n",
    "    res = (res + b) * y[i]\n",
    "    return res\n",
    "\n",
    "# check if the hyperplane can classify the examples correctly\n",
    "def check():\n",
    "    global a, b, x, y\n",
    "    flag = False\n",
    "    for i in range(len(training_set)):\n",
    "        if cal(i) <= 0:\n",
    "            flag = True\n",
    "            update(i)\n",
    "    if not flag:\n",
    "        w = np.dot(a * y, x)\n",
    "        print (\"RESULT: w: \" + str(w) + \" b: \" + str(b))\n",
    "        return False\n",
    "    return True\n",
    "\n",
    "\n",
    "if __name__ == \"__main__\":\n",
    "    Gram = cal_gram()  # initialize the Gram matrix\n",
    "    for i in range(1000):\n",
    "        if not check(): break"
   ]
  }
 ],
 "metadata": {
  "kernelspec": {
   "display_name": "Python 3",
   "language": "python",
   "name": "python3"
  },
  "language_info": {
   "codemirror_mode": {
    "name": "ipython",
    "version": 3
   },
   "file_extension": ".py",
   "mimetype": "text/x-python",
   "name": "python",
   "nbconvert_exporter": "python",
   "pygments_lexer": "ipython3",
   "version": "3.6.4"
  },
  "toc": {
   "nav_menu": {},
   "number_sections": true,
   "sideBar": true,
   "skip_h1_title": false,
   "title_cell": "Table of Contents",
   "title_sidebar": "Contents",
   "toc_cell": false,
   "toc_position": {
    "height": "calc(100% - 180px)",
    "left": "10px",
    "top": "150px",
    "width": "297px"
   },
   "toc_section_display": true,
   "toc_window_display": true
  }
 },
 "nbformat": 4,
 "nbformat_minor": 2
}
