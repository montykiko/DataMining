{
 "cells": [
  {
   "cell_type": "markdown",
   "metadata": {},
   "source": [
    "http://blog.csdn.net/longxinchen_ml/article/details/49130931"
   ]
  },
  {
   "cell_type": "code",
   "execution_count": 12,
   "metadata": {
    "collapsed": true
   },
   "outputs": [],
   "source": [
    "import numpy as np\n",
    "from numpy import array"
   ]
  },
  {
   "cell_type": "markdown",
   "metadata": {},
   "source": [
    "# 线性回归sigmoid函数"
   ]
  },
  {
   "cell_type": "markdown",
   "metadata": {},
   "source": [
    "$g(z) = \\frac{1}{1+e^{-z}}$"
   ]
  },
  {
   "cell_type": "markdown",
   "metadata": {},
   "source": [
    "# 判定边界"
   ]
  },
  {
   "cell_type": "markdown",
   "metadata": {},
   "source": [
    "# 代价函数与梯度下降"
   ]
  },
  {
   "cell_type": "markdown",
   "metadata": {},
   "source": [
    "逻辑回归的代价函数：\n",
    "\n",
    "$J(\\theta ) = \\frac{1}{m}\\sum_{i=1}^{m}Cost(h_{\\theta }(x^{(i)}, y^{(i)}) \n",
    "=-\\frac{1}{m}[\\sum_{i=1}^{m}y^{(i)}logh_{\\theta }(x^{(i)}) + (1-y^{(i)})log(1-h_{\\theta }(x^{(i)}))]$"
   ]
  },
  {
   "cell_type": "markdown",
   "metadata": {},
   "source": [
    "# 代码与实现"
   ]
  },
  {
   "cell_type": "markdown",
   "metadata": {},
   "source": [
    "## 数据的空间分布"
   ]
  },
  {
   "cell_type": "code",
   "execution_count": 1,
   "metadata": {
    "collapsed": false
   },
   "outputs": [
    {
     "name": "stderr",
     "output_type": "stream",
     "text": [
      "/Users/xueji/anaconda/lib/python3.6/site-packages/matplotlib/legend.py:634: UserWarning: Legend does not support 'F' instances.\n",
      "A proxy artist may be used instead.\n",
      "See: http://matplotlib.org/users/legend_guide.html#using-proxy-artist\n",
      "  \"#using-proxy-artist\".format(orig_handle)\n",
      "/Users/xueji/anaconda/lib/python3.6/site-packages/matplotlib/legend.py:634: UserWarning: Legend does not support 'a' instances.\n",
      "A proxy artist may be used instead.\n",
      "See: http://matplotlib.org/users/legend_guide.html#using-proxy-artist\n",
      "  \"#using-proxy-artist\".format(orig_handle)\n",
      "/Users/xueji/anaconda/lib/python3.6/site-packages/matplotlib/legend.py:634: UserWarning: Legend does not support 'i' instances.\n",
      "A proxy artist may be used instead.\n",
      "See: http://matplotlib.org/users/legend_guide.html#using-proxy-artist\n",
      "  \"#using-proxy-artist\".format(orig_handle)\n",
      "/Users/xueji/anaconda/lib/python3.6/site-packages/matplotlib/legend.py:634: UserWarning: Legend does not support 'l' instances.\n",
      "A proxy artist may be used instead.\n",
      "See: http://matplotlib.org/users/legend_guide.html#using-proxy-artist\n",
      "  \"#using-proxy-artist\".format(orig_handle)\n"
     ]
    },
    {
     "data": {
      "image/png": "[encoded data removed]",
      "text/plain": [
       "<matplotlib.figure.Figure at 0x1031c89b0>"
      ]
     },
     "metadata": {},
     "output_type": "display_data"
    }
   ],
   "source": [
    "from numpy import loadtxt,where\n",
    "from pylab import scatter,show,legend,xlabel,ylabel\n",
    "\n",
    "#load the dataset\n",
    "data = loadtxt('./some datasets/data1.txt',delimiter=',')\n",
    "X = data[:,0:2]\n",
    "y = data[:,2]\n",
    "\n",
    "pos = where(y==1)\n",
    "neg = where(y==0)\n",
    "scatter(X[pos,0],X[pos,1],marker='o',c='b')\n",
    "scatter(X[neg,0],X[neg,1],marker='x',c='r')\n",
    "xlabel('Feature1/Exam 1 score')\n",
    "ylabel('Feature2/Exam 2 score')\n",
    "legend('Fail','Pass')\n",
    "show()"
   ]
  },
  {
   "cell_type": "markdown",
   "metadata": {
    "collapsed": true
   },
   "source": [
    "## 计算sigmoid函数、代价函数和梯度下降的程序"
   ]
  },
  {
   "cell_type": "code",
   "execution_count": 7,
   "metadata": {
    "collapsed": true
   },
   "outputs": [],
   "source": [
    "def sigmoid(z):\n",
    "    den = 1.0 + e**(-1.0*z)\n",
    "    gz = 1.0 / den\n",
    "    return gz"
   ]
  },
  {
   "cell_type": "code",
   "execution_count": 4,
   "metadata": {
    "collapsed": false
   },
   "outputs": [],
   "source": [
    "def compute_cost(theta,X,y):\n",
    "    m = X.shape[0]\n",
    "    theta = reshape(theta,len(theta),1)\n",
    "    J =(1./m)*(-transpose(y).dot(log(sigmoid(X.dot(theta))))- transpose(1-y).dot(log(1-sigmoid(X.dot(theta)))))\n",
    "    grad = transpose((1./m)*transpose(sigmoid(X.dot(theta))- y).dot(X))\n",
    "    return J[0][0]"
   ]
  },
  {
   "cell_type": "code",
   "execution_count": 5,
   "metadata": {
    "collapsed": true
   },
   "outputs": [],
   "source": [
    "def compute_grad(theta,X,y):\n",
    "    theta.shape = (1,3)\n",
    "    grad = zeros(3)\n",
    "    h = sigmoid(X.dot(theta.T))  \n",
    "    delta = h - y  \n",
    "    l = grad.size  \n",
    "    for i in range(l):  \n",
    "        sumdelta = delta.T.dot(X[:, i])  \n",
    "        grad[i]=(1.0/ m)* sumdelta *-1  \n",
    "    theta.shape =(3,)  \n",
    "    return  grad  "
   ]
  },
  {
   "cell_type": "code",
   "execution_count": 13,
   "metadata": {
    "collapsed": false
   },
   "outputs": [
    {
     "ename": "NameError",
     "evalue": "name 'theta' is not defined",
     "output_type": "error",
     "traceback": [
      "\u001b[0;31m---------------------------------------------------------------------------\u001b[0m",
      "\u001b[0;31mNameError\u001b[0m                                 Traceback (most recent call last)",
      "\u001b[0;32m<ipython-input-13-55d86c305929>\u001b[0m in \u001b[0;36m<module>\u001b[0;34m()\u001b[0m\n\u001b[1;32m     11\u001b[0m     \u001b[0;32mreturn\u001b[0m \u001b[0mp\u001b[0m\u001b[0;34m\u001b[0m\u001b[0m\n\u001b[1;32m     12\u001b[0m \u001b[0;31m#Compute accuracy on our training set\u001b[0m\u001b[0;34m\u001b[0m\u001b[0;34m\u001b[0m\u001b[0m\n\u001b[0;32m---> 13\u001b[0;31m \u001b[0mp\u001b[0m \u001b[0;34m=\u001b[0m \u001b[0mpredict\u001b[0m\u001b[0;34m(\u001b[0m\u001b[0marray\u001b[0m\u001b[0;34m(\u001b[0m\u001b[0mtheta\u001b[0m\u001b[0;34m)\u001b[0m\u001b[0;34m,\u001b[0m \u001b[0mit\u001b[0m\u001b[0;34m)\u001b[0m\u001b[0;34m\u001b[0m\u001b[0m\n\u001b[0m\u001b[1;32m     14\u001b[0m \u001b[0mprint\u001b[0m\u001b[0;34m(\u001b[0m\u001b[0;34m'Train Accuracy: %f'\u001b[0m\u001b[0;34m%\u001b[0m\u001b[0;34m(\u001b[0m\u001b[0;34m(\u001b[0m\u001b[0my\u001b[0m\u001b[0;34m[\u001b[0m\u001b[0mwhere\u001b[0m\u001b[0;34m(\u001b[0m\u001b[0mp\u001b[0m \u001b[0;34m==\u001b[0m \u001b[0my\u001b[0m\u001b[0;34m)\u001b[0m\u001b[0;34m]\u001b[0m\u001b[0;34m.\u001b[0m\u001b[0msize\u001b[0m \u001b[0;34m/\u001b[0m \u001b[0mfloat\u001b[0m\u001b[0;34m(\u001b[0m\u001b[0my\u001b[0m\u001b[0;34m.\u001b[0m\u001b[0msize\u001b[0m\u001b[0;34m)\u001b[0m\u001b[0;34m)\u001b[0m\u001b[0;34m*\u001b[0m\u001b[0;36m100.0\u001b[0m\u001b[0;34m)\u001b[0m\u001b[0;34m)\u001b[0m\u001b[0;34m\u001b[0m\u001b[0m\n",
      "\u001b[0;31mNameError\u001b[0m: name 'theta' is not defined"
     ]
    }
   ],
   "source": [
    "def predict(theta, X):  \n",
    "    '''''Predict label using learned logistic regression parameters'''  \n",
    "    m, n = X.shape  \n",
    "    p = zeros(shape=(m,1))  \n",
    "    h = sigmoid(X.dot(theta.T))  \n",
    "    for it in range(0, h.shape[0]):  \n",
    "        if h[it]>0.5:  \n",
    "            p[it,0]=1  \n",
    "        else:  \n",
    "            p[it,0]=0  \n",
    "    return p  \n",
    "#Compute accuracy on our training set  \n",
    "p = predict(array(theta), it)  \n",
    "print('Train Accuracy: %f'%((y[where(p == y)].size / float(y.size))*100.0))  "
   ]
  },
  {
   "cell_type": "markdown",
   "metadata": {},
   "source": [
    "# 第二个数据集"
   ]
  },
  {
   "cell_type": "code",
   "execution_count": null,
   "metadata": {
    "collapsed": true
   },
   "outputs": [],
   "source": [
    "def map_feature(x1, x2):  \n",
    "    ''''' \n",
    "    Maps the two input features to polonomial features. \n",
    "    Returns a new feature array with more features of \n",
    "    X1, X2, X1 ** 2, X2 ** 2, X1*X2, X1*X2 ** 2, etc... \n",
    "    '''  \n",
    "    x1.shape =(x1.size,1)  \n",
    "    x2.shape =(x2.size,1)  \n",
    "    degree =6  \n",
    "    mapped_fea = ones(shape=(x1[:,0].size,1))  \n",
    "    m, n = mapped_fea.shape  \n",
    "    for i in range(1, degree +1):  \n",
    "        for j in range(i +1):  \n",
    "            r =(x1 **(i - j))*(x2 ** j)  \n",
    "            mapped_fea = append(out, r, axis=1)  \n",
    "    return mapped_fea  \n",
    "mapped_fea = map_feature(X[:,0], X[:,1])  "
   ]
  },
  {
   "cell_type": "code",
   "execution_count": null,
   "metadata": {
    "collapsed": true
   },
   "outputs": [],
   "source": [
    "def cost_function_reg(theta, X, y, l):  \n",
    "    '''''Compute the cost and partial derivatives as grads \n",
    "    '''  \n",
    "    h = sigmoid(X.dot(theta))  \n",
    "    thetaR = theta[1:,0]  \n",
    "    J =(1.0/ m)*((-y.T.dot(log(h)))-((1- y.T).dot(log(1.0- h)))) \\  \n",
    "            +(l /(2.0* m))*(thetaR.T.dot(thetaR))  \n",
    "    delta = h - y  \n",
    "    sum_delta = delta.T.dot(X[:,1])  \n",
    "    grad1 =(1.0/ m)* sumdelta  \n",
    "    XR = X[:,1:X.shape[1]]  \n",
    "    sum_delta = delta.T.dot(XR)  \n",
    "    grad =(1.0/ m)*(sum_delta + l * thetaR)  \n",
    "    out = zeros(shape=(grad.shape[0], grad.shape[1]+1))  \n",
    "    out[:,0]= grad1  \n",
    "    out[:,1:]= grad  \n",
    "    return J.flatten(), out.T.flatten()  \n",
    "m, n = X.shape  \n",
    "y.shape =(m,1)  \n",
    "it = map_feature(X[:,0], X[:,1])  \n",
    "#Initialize theta parameters  \n",
    "initial_theta = zeros(shape=(it.shape[1],1))  \n",
    "#Use regularization and set parameter lambda to 1  \n",
    "l =1  \n",
    "# Compute and display initial cost and gradient for regularized logistic  \n",
    "# regression  \n",
    "cost, grad = cost_function_reg(initial_theta, it, y, l)  \n",
    "def decorated_cost(theta):  \n",
    "    return cost_function_reg(theta, it, y, l)  \n",
    "print fmin_bfgs(decorated_cost, initial_theta, maxfun=500)  "
   ]
  },
  {
   "cell_type": "code",
   "execution_count": null,
   "metadata": {
    "collapsed": true
   },
   "outputs": [],
   "source": [
    "#Plot Boundary  \n",
    "u = linspace(-1,1.5,50)  \n",
    "v = linspace(-1,1.5,50)  \n",
    "z = zeros(shape=(len(u), len(v)))  \n",
    "for i in range(len(u)):  \n",
    "    for j in range(len(v)):  \n",
    "        z[i, j]=(map_feature(array(u[i]), array(v[j])).dot(array(theta)))  \n",
    "z = z.T  \n",
    "contour(u, v, z)  \n",
    "title('lambda = %f'% l)  \n",
    "xlabel('Microchip Test 1')  \n",
    "ylabel('Microchip Test 2')  \n",
    "legend(['y = 1','y = 0','Decision boundary'])  \n",
    "show()  \n",
    "def predict(theta, X):  \n",
    "    '''''Predict whether the label \n",
    "    is 0 or 1 using learned logistic \n",
    "    regression parameters '''  \n",
    "    m, n = X.shape  \n",
    "    p = zeros(shape=(m,1))  \n",
    "    h = sigmoid(X.dot(theta.T))  \n",
    "    for it in range(0, h.shape[0]):  \n",
    "        if h[it]>0.5:  \n",
    "            p[it,0]=1  \n",
    "        else:  \n",
    "            p[it,0]=0  \n",
    "    return p  \n",
    "#% Compute accuracy on our training set  \n",
    "p = predict(array(theta), it)  \n",
    "print'Train Accuracy: %f'%((y[where(p == y)].size / float(y.size))*100.0)  "
   ]
  }
 ],
 "metadata": {
  "kernelspec": {
   "display_name": "Python 3",
   "language": "python",
   "name": "python3"
  },
  "language_info": {
   "codemirror_mode": {
    "name": "ipython",
    "version": 3
   },
   "file_extension": ".py",
   "mimetype": "text/x-python",
   "name": "python",
   "nbconvert_exporter": "python",
   "pygments_lexer": "ipython3",
   "version": "3.6.0"
  },
  "toc": {
   "colors": {
    "hover_highlight": "#DAA520",
    "running_highlight": "#FF0000",
    "selected_highlight": "#FFD700"
   },
   "moveMenuLeft": true,
   "nav_menu": {
    "height": "84px",
    "width": "253px"
   },
   "navigate_menu": true,
   "number_sections": true,
   "sideBar": true,
   "threshold": 4,
   "toc_cell": false,
   "toc_position": {
    "height": "671px",
    "left": "0px",
    "right": "auto",
    "top": "107px",
    "width": "212px"
   },
   "toc_section_display": "block",
   "toc_window_display": true,
   "widenNotebook": false
  }
 },
 "nbformat": 4,
 "nbformat_minor": 2
}
