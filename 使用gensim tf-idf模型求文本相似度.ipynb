{
 "cells": [
  {
   "cell_type": "code",
   "execution_count": 18,
   "metadata": {
    "ExecuteTime": {
     "end_time": "2018-05-30T06:46:40.119179Z",
     "start_time": "2018-05-30T06:46:40.115190Z"
    }
   },
   "outputs": [],
   "source": [
    "import jieba\n",
    "from collections import defaultdict\n",
    "from gensim import similarities,corpora,models"
   ]
  },
  {
   "cell_type": "markdown",
   "metadata": {},
   "source": [
    "# 语料库建立词典"
   ]
  },
  {
   "cell_type": "code",
   "execution_count": 19,
   "metadata": {
    "ExecuteTime": {
     "end_time": "2018-05-30T06:48:27.609155Z",
     "start_time": "2018-05-30T06:48:27.603200Z"
    }
   },
   "outputs": [
    {
     "data": {
      "text/plain": [
       "[['我', '去', '玉龙雪山', '并且', '喜欢', '玉龙雪山', '玉龙雪山'],\n",
       " ['我', '在', '玉龙雪山', '并且', '喜欢', '玉龙雪山'],\n",
       " ['我', '在', '九寨沟']]"
      ]
     },
     "execution_count": 19,
     "metadata": {},
     "output_type": "execute_result"
    }
   ],
   "source": [
    "str_lst = [\"我去玉龙雪山并且喜欢玉龙雪山玉龙雪山\",\"我在玉龙雪山并且喜欢玉龙雪山\",\"我在九寨沟\"]\n",
    "word_array = [[word for word in jieba.cut(s)]for s in str_lst]\n",
    "word_array"
   ]
  },
  {
   "cell_type": "code",
   "execution_count": 22,
   "metadata": {
    "ExecuteTime": {
     "end_time": "2018-05-30T06:50:53.032326Z",
     "start_time": "2018-05-30T06:50:53.026342Z"
    }
   },
   "outputs": [
    {
     "data": {
      "text/plain": [
       "[[(0, 1), (1, 1), (2, 3), (3, 1), (4, 1)],\n",
       " [(0, 1), (2, 2), (3, 1), (4, 1), (5, 1)],\n",
       " [(0, 1), (5, 1), (6, 1)]]"
      ]
     },
     "execution_count": 22,
     "metadata": {},
     "output_type": "execute_result"
    }
   ],
   "source": [
    "dictionary = corpora.Dictionary(word_array)\n",
    "corpus= [dictionary.doc2bow(words) for words in word_array]\n",
    "corpus"
   ]
  },
  {
   "cell_type": "markdown",
   "metadata": {},
   "source": [
    "# 文集建立tfidf模型"
   ]
  },
  {
   "cell_type": "code",
   "execution_count": 14,
   "metadata": {
    "ExecuteTime": {
     "end_time": "2018-05-30T06:34:44.000147Z",
     "start_time": "2018-05-30T06:34:43.996187Z"
    }
   },
   "outputs": [],
   "source": [
    "tfidf_model = models.TfidfModel(corpus)\n",
    "corpus_tfidf = tfidf_model[corpus]"
   ]
  },
  {
   "cell_type": "markdown",
   "metadata": {},
   "source": [
    "# 测试"
   ]
  },
  {
   "cell_type": "code",
   "execution_count": 23,
   "metadata": {
    "ExecuteTime": {
     "end_time": "2018-05-30T06:51:55.888159Z",
     "start_time": "2018-05-30T06:51:55.883173Z"
    }
   },
   "outputs": [],
   "source": [
    "test_str = \"我在九寨沟,很喜欢\"\n",
    "test_bow = dictionary.doc2bow([word for word in jieba.cut(test_str)])\n",
    "test_tfidf = tfidf_model[test_bow] #测试转化内容扔进模型中"
   ]
  },
  {
   "cell_type": "markdown",
   "metadata": {},
   "source": [
    "# 相似度观察"
   ]
  },
  {
   "cell_type": "code",
   "execution_count": 24,
   "metadata": {
    "ExecuteTime": {
     "end_time": "2018-05-30T06:51:58.815378Z",
     "start_time": "2018-05-30T06:51:58.810391Z"
    }
   },
   "outputs": [
    {
     "name": "stdout",
     "output_type": "stream",
     "text": [
      "[ 0.07639694  0.2473283   0.94496047]\n"
     ]
    }
   ],
   "source": [
    "index = similarities.MatrixSimilarity(corpus_tfidf) \n",
    "sims = index[test_tfidf] \n",
    "print (sims)"
   ]
  }
 ],
 "metadata": {
  "kernelspec": {
   "display_name": "Python 3",
   "language": "python",
   "name": "python3"
  },
  "language_info": {
   "codemirror_mode": {
    "name": "ipython",
    "version": 3
   },
   "file_extension": ".py",
   "mimetype": "text/x-python",
   "name": "python",
   "nbconvert_exporter": "python",
   "pygments_lexer": "ipython3",
   "version": "3.6.4"
  },
  "toc": {
   "nav_menu": {},
   "number_sections": true,
   "sideBar": true,
   "skip_h1_title": false,
   "title_cell": "Table of Contents",
   "title_sidebar": "Contents",
   "toc_cell": false,
   "toc_position": {
    "height": "calc(100% - 180px)",
    "left": "10px",
    "top": "150px",
    "width": "287px"
   },
   "toc_section_display": true,
   "toc_window_display": true
  }
 },
 "nbformat": 4,
 "nbformat_minor": 2
}
