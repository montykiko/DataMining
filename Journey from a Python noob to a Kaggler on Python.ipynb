{
 "cells": [
  {
   "cell_type": "markdown",
   "metadata": {},
   "source": [
    "https://www.analyticsvidhya.com/learning-paths-data-science-business-analytics-business-intelligence-big-data/learning-path-data-science-python/"
   ]
  },
  {
   "cell_type": "markdown",
   "metadata": {},
   "source": [
    "# warming up"
   ]
  },
  {
   "cell_type": "markdown",
   "metadata": {},
   "source": [
    "## Role of Python in Data Science and Machine Learning"
   ]
  },
  {
   "cell_type": "markdown",
   "metadata": {},
   "source": [
    "https://www.youtube.com/watch?v=CoxjADZHUQA"
   ]
  },
  {
   "cell_type": "markdown",
   "metadata": {},
   "source": [
    "## Infographic – Quick Guide to learn Python for Data Science"
   ]
  },
  {
   "cell_type": "markdown",
   "metadata": {},
   "source": [
    "https://www.analyticsvidhya.com/blog/2015/05/infographic-quick-guide-learn-python-data-science/"
   ]
  },
  {
   "cell_type": "markdown",
   "metadata": {},
   "source": [
    "# Setting up your machine"
   ]
  },
  {
   "cell_type": "markdown",
   "metadata": {},
   "source": [
    "# Learn the basics of Python language"
   ]
  },
  {
   "cell_type": "markdown",
   "metadata": {},
   "source": [
    "[interactive Python tutorial by DataCamp](https://www.datacamp.com/courses/intro-to-python-for-data-science)"
   ]
  },
  {
   "cell_type": "markdown",
   "metadata": {},
   "source": [
    "[Google Class for Python](https://developers.google.com/edu/python/)"
   ]
  },
  {
   "cell_type": "markdown",
   "metadata": {},
   "source": [
    "# Learn Regular Expressions in Python"
   ]
  },
  {
   "cell_type": "markdown",
   "metadata": {},
   "source": [
    "[ learn Regular expressions](https://developers.google.com/edu/python/regular-expressions)"
   ]
  },
  {
   "cell_type": "markdown",
   "metadata": {},
   "source": [
    "[cheatsheet](https://www.debuggex.com/cheatsheet/regex/python)"
   ]
  },
  {
   "cell_type": "markdown",
   "metadata": {},
   "source": [
    "[ baby names exercise](https://developers.google.com/edu/python/exercises/baby-names)"
   ]
  },
  {
   "cell_type": "markdown",
   "metadata": {},
   "source": [
    "[tutorial for text cleaning](https://www.analyticsvidhya.com/blog/2014/11/text-data-cleaning-steps-python/)"
   ]
  },
  {
   "cell_type": "markdown",
   "metadata": {},
   "source": [
    "# Learn Scientific libraries in Python – NumPy, SciPy, Matplotlib and Pandas"
   ]
  },
  {
   "cell_type": "markdown",
   "metadata": {},
   "source": [
    "This is where fun begins! Here is a brief introduction to various libraries. Let’s start practicing some common operations.\n",
    "\n",
    "Practice the [NumPy tutorial](http://scipy.github.io/old-wiki/pages/Tentative_NumPy_Tutorial) thoroughly, especially NumPy arrays. This will form a good foundation for things to come.\n",
    "\n",
    "Next, look at the [SciPy tutorials](https://docs.scipy.org/doc/scipy/reference/tutorial/). Go through the introduction and the basics and do the remaining ones basis your needs.\n",
    "\n",
    "If you guessed Matplotlib tutorials next, you are wrong! They are too comprehensive for our need here. Instead look at this [ipython notebook](http://nbviewer.jupyter.org/github/jrjohansson/scientific-python-lectures/blob/master/Lecture-4-Matplotlib.ipynb) till Line 68 (i.e. till animations)\n",
    "\n",
    "Finally, let us look at Pandas. Pandas provide DataFrame functionality (like R) for Python. This is also where you should spend good time practicing. Pandas would become the most effective tool for all mid-size data analysis. Start with a short introduction, [10 minutes to pandas](http://pandas.pydata.org/pandas-docs/stable/10min.html). Then move on to a more detailed [tutorial on pandas](http://www.gregreda.com/2013/10/26/intro-to-pandas-data-structures/).\n",
    "Check out DataCamp’s course on [Pandas Foundations](https://www.datacamp.com/courses/pandas-foundations)\n",
    "\n",
    "You can also look at [Exploratory Data Analysis with Pandas](https://www.analyticsvidhya.com/blog/2016/01/complete-tutorial-learn-data-science-python-scratch-2/) and [Data munging with Pandas](https://www.analyticsvidhya.com/blog/2014/09/data-munging-python-using-pandas-baby-steps-python/)"
   ]
  },
  {
   "cell_type": "markdown",
   "metadata": {},
   "source": [
    "Additional Resources:\n",
    "\n",
    "If you need a book on Pandas and NumPy, “Python for Data Analysis by Wes McKinney”\n",
    "There are a lot of tutorials as part of Pandas documentation. You can have a look at them [here](http://pandas.pydata.org/pandas-docs/stable/tutorials.html)\n",
    "Assignment: Solve this assignment from [CS109 course from Harvard](http://nbviewer.jupyter.org/github/cs109/2014/blob/master/homework/HW1.ipynb)."
   ]
  },
  {
   "cell_type": "markdown",
   "metadata": {},
   "source": [
    "# Effective Data Visualization"
   ]
  },
  {
   "cell_type": "markdown",
   "metadata": {},
   "source": [
    "Go through this [lecture form CS109](https://matterhorn.dce.harvard.edu/engage/ui/index.html#/2015/01/14328).         You can ignore the initial 2 minutes, but what follows after that is awesome! Follow this lecture up with this [assignment](http://nbviewer.jupyter.org/github/cs109/2014/blob/master/homework/HW2.ipynb)\n",
    "\n",
    "Check out [Bokeh Data Visualization Tutorial from DataCamp](https://www.datacamp.com/courses/interactive-data-visualization-with-bokeh)"
   ]
  },
  {
   "cell_type": "markdown",
   "metadata": {},
   "source": [
    "# Learn Scikit-learn and Machine Learning"
   ]
  },
  {
   "cell_type": "markdown",
   "metadata": {},
   "source": [
    "Now, we come to the meat of this entire process. Scikit-learn is the most useful library on python for machine learning. Here is [a brief overview of the library](https://www.analyticsvidhya.com/blog/2015/01/scikit-learn-python-machine-learning-tool/). Go through lecture 10 to lecture 18 from [CS109 course from Harvard](http://cs109.github.io/2014/pages/schedule.html). You will go through an overview of machine learning, Supervised learning algorithms like regressions, decision trees, ensemble modeling and non-supervised learning algorithms like clustering. Follow individual lectures with the [assignments](http://cs109.github.io/2014/pages/homework.html) from those lectures."
   ]
  },
  {
   "cell_type": "markdown",
   "metadata": {},
   "source": [
    "Additional Resources:\n",
    "\n",
    "If there is one book, you must read, it is [Programming Collective Intelligence](https://www.amazon.com/Programming-Collective-Intelligence-Building-Applications/dp/0596529325) – a classic, but still one of the best books on the subject.\n",
    "Additionally, you can also follow one of the best courses on [Machine Learning course from Yaser Abu-Mostafa](https://www.edx.org/course/learning-data-introductory-machine-caltechx-cs1156x-0). If you need more lucid explanation for the techniques, you can opt for the [Machine learning course from Andrew Ng](https://www.coursera.org/learn/machine-learning) and follow the exercises on Python.\n",
    "Tutorials on Scikit learn\n",
    "Assignment: Try out this [challenge](https://www.kaggle.com/c/data-science-london-scikit-learn) on Kaggle"
   ]
  },
  {
   "cell_type": "markdown",
   "metadata": {},
   "source": [
    "# Practice, practice and Practice"
   ]
  },
  {
   "cell_type": "markdown",
   "metadata": {},
   "source": [
    "[kaggle](https://www.kaggle.com/) for a try!"
   ]
  },
  {
   "cell_type": "markdown",
   "metadata": {},
   "source": [
    "# Deep Learning"
   ]
  },
  {
   "cell_type": "markdown",
   "metadata": {},
   "source": [
    "Now that you have learnt most of machine learning techniques, it is time to give Deep Learning a shot. There is a good chance that you already know what is Deep Learning, but if you still need a brief intro, [here](https://www.analyticsvidhya.com/blog/2014/06/deep-learning-attention/) it is.\n",
    "\n",
    "I am myself new to deep learning, so please take these suggestions with a pinch of salt. The most comprehensive resource is [deeplearning.net](http://deeplearning.net/). You will find everything here – lectures, datasets, challenges, tutorials. You can also try the [course from Geoff Hinton](https://www.coursera.org/learn/neural-networks) a try in a bid to understand the basics of Neural Networks.\n"
   ]
  }
 ],
 "metadata": {
  "kernelspec": {
   "display_name": "Python 3",
   "language": "python",
   "name": "python3"
  },
  "language_info": {
   "codemirror_mode": {
    "name": "ipython",
    "version": 3
   },
   "file_extension": ".py",
   "mimetype": "text/x-python",
   "name": "python",
   "nbconvert_exporter": "python",
   "pygments_lexer": "ipython3",
   "version": "3.6.0"
  },
  "latex_envs": {
   "LaTeX_envs_menu_present": true,
   "autocomplete": true,
   "bibliofile": "biblio.bib",
   "cite_by": "apalike",
   "current_citInitial": 1,
   "eqLabelWithNumbers": true,
   "eqNumInitial": 1,
   "hotkeys": {
    "equation": "Ctrl-E",
    "itemize": "Ctrl-I"
   },
   "labels_anchors": false,
   "latex_user_defs": false,
   "report_style_numbering": false,
   "user_envs_cfg": false
  },
  "toc": {
   "colors": {
    "hover_highlight": "#DAA520",
    "running_highlight": "#FF0000",
    "selected_highlight": "#FFD700"
   },
   "moveMenuLeft": true,
   "nav_menu": {
    "height": "227px",
    "width": "252px"
   },
   "navigate_menu": true,
   "number_sections": true,
   "sideBar": true,
   "threshold": 4,
   "toc_cell": false,
   "toc_section_display": "block",
   "toc_window_display": true,
   "widenNotebook": false
  }
 },
 "nbformat": 4,
 "nbformat_minor": 2
}
